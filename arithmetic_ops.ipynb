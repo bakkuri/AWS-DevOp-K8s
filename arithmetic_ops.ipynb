{
  "nbformat": 4,
  "nbformat_minor": 0,
  "metadata": {
    "colab": {
      "provenance": [],
      "authorship_tag": "ABX9TyMHgSVDNq9U9GcLlh/rK8A3",
      "include_colab_link": true
    },
    "kernelspec": {
      "name": "python3",
      "display_name": "Python 3"
    },
    "language_info": {
      "name": "python"
    }
  },
  "cells": [
    {
      "cell_type": "markdown",
      "metadata": {
        "id": "view-in-github",
        "colab_type": "text"
      },
      "source": [
        "<a href=\"https://colab.research.google.com/github/bakkuri/AWS-DevOp-K8s/blob/master/arithmetic_ops.ipynb\" target=\"_parent\"><img src=\"https://colab.research.google.com/assets/colab-badge.svg\" alt=\"Open In Colab\"/></a>"
      ]
    },
    {
      "cell_type": "code",
      "execution_count": 7,
      "metadata": {
        "colab": {
          "base_uri": "https://localhost:8080/"
        },
        "id": "W8uxM--M8Xe9",
        "outputId": "e352e557-4513-4a0c-f792-3c96a869534d"
      },
      "outputs": [
        {
          "output_type": "stream",
          "name": "stdout",
          "text": [
            "Enter num1: 9\n",
            "Enter num2: 4\n",
            "sum: Addition of 9 and 4 is 13\n",
            "Subtract of num1 and num2 is 5\n",
            "mul of num1 and num2 is 36\n",
            "Modulus of num1 and num2 is 1\n",
            "Division of num1 and num2 is 2.25\n",
            "Floor Division of num1 and num2 is 2\n",
            "Exponentiation of num1 and num2 is 6561\n"
          ]
        }
      ],
      "source": [
        "num1 = int(input(\"Enter num1: \"))\n",
        "num2 = int(input(\"Enter num2: \"))\n",
        "\n",
        "sum = num1+num2\n",
        "print(f\"sum: Addition of {num1} and {num2} is\", sum )\n",
        "print(\"Subtract of num1 and num2 is\", num1-num2)\n",
        "print(\"mul of num1 and num2 is\", num1*num2)\n",
        "print(\"Modulus of num1 and num2 is\", num1%num2)\n",
        "print(\"Division of num1 and num2 is\", num1/num2)\n",
        "print(\"Floor Division of num1 and num2 is\", num1//num2)\n",
        "print(\"Exponentiation of num1 and num2 is\", num1**num2)\n",
        "\n",
        "\n",
        "\n",
        "\n",
        "\n",
        "\n",
        "\n"
      ]
    },
    {
      "cell_type": "code",
      "execution_count": 22,
      "metadata": {
        "colab": {
          "base_uri": "https://localhost:8080/"
        },
        "outputId": "dad252a0-dd09-41c4-c330-65d2301b50fd",
        "id": "wbaBqk9_9J8P"
      },
      "outputs": [
        {
          "output_type": "stream",
          "name": "stdout",
          "text": [
            "{'a': 10.0, 'l': 3} {'a': 21.0, 'l': 5} {'a': 36.0, 'l': 7}\n"
          ]
        }
      ],
      "source": [
        "#Area of Triangle\n",
        "import math\n",
        "\n",
        "def area_of_tri(length,breadth,height):\n",
        "  #length=int(input(\"Enter Length of triangle: \"))\n",
        "  #breadth=int(input(\"Enter Breadth of triangle: \"))\n",
        "  #height=int(input(\"Enter Height of triangle: \"))\n",
        "  area_of_triangle=(0.5*height*breadth)\n",
        "  return {\"a\":area_of_triangle, \"l\":length}\n",
        "#print(area_of_tri())\n",
        "area=area_of_tri(3,4,5)\n",
        "area_1=area_of_tri(5,6,7)\n",
        "area_2=area_of_tri(7,8,9)\n",
        "print(area,area_1,area_2)"
      ]
    },
    {
      "cell_type": "code",
      "source": [
        "#To swap 2 variables.\n",
        "#swapping var using temp variable var3\n",
        "var1=\"hello\"\n",
        "var2=\"world\"\n",
        "var3=\" \"\n",
        "print(f\"my swap var is {var1},{var2}:\", var1,var2,var3)\n",
        "\n",
        "var3=var1\n",
        "var1=var2\n",
        "var2=var3\n",
        "\n",
        "print(f\"prtint vars: \", var1,var2)"
      ],
      "metadata": {
        "colab": {
          "base_uri": "https://localhost:8080/"
        },
        "id": "eWYoWEtW_Nx-",
        "outputId": "dff25057-909d-427d-aedf-f5a1dce8cc39"
      },
      "execution_count": 35,
      "outputs": [
        {
          "output_type": "stream",
          "name": "stdout",
          "text": [
            "my swap var is hello,world: hello world  \n",
            "prtint vars:  world hello\n"
          ]
        }
      ]
    },
    {
      "cell_type": "code",
      "source": [
        "#Generate Random number\n",
        "\n",
        "import random as rd\n",
        "\n",
        "def random():\n",
        "  ran_dom=rd.random()\n",
        "  random_number=rd.randint(1,1090)\n",
        "\n",
        "  return ran_dom,random_number\n",
        "r=random()\n",
        "print(f\"random {r[0]:1.2f}\")\n",
        "print(f\"random number: {r[1]}\")"
      ],
      "metadata": {
        "colab": {
          "base_uri": "https://localhost:8080/"
        },
        "id": "l-tgEx0hC35H",
        "outputId": "68f7c466-59a5-4c25-9790-9e0a96cedc98"
      },
      "execution_count": 64,
      "outputs": [
        {
          "output_type": "stream",
          "name": "stdout",
          "text": [
            "random 0.40\n",
            "random number: 427\n"
          ]
        }
      ]
    },
    {
      "cell_type": "code",
      "source": [
        "#KM to Miles\n",
        "\n",
        "km = int(input(\"Enter in KM: \"))\n",
        "conversion_factor=0.621371\n",
        "\n",
        "miles = km*conversion_factor\n",
        "print(miles)\n"
      ],
      "metadata": {
        "colab": {
          "base_uri": "https://localhost:8080/"
        },
        "id": "a8Cp-EMmHopD",
        "outputId": "e5fdcd0c-1d88-4133-baf3-8c7c8b943f1e"
      },
      "execution_count": 65,
      "outputs": [
        {
          "output_type": "stream",
          "name": "stdout",
          "text": [
            "Enter in KM: 2\n",
            "1.242742\n"
          ]
        }
      ]
    },
    {
      "cell_type": "code",
      "source": [
        "#Celcius to Fahrenheit\n",
        "\n",
        "celsius = int(input(\"Enter Celsius range: \"))\n",
        "conversion_formula=32\n",
        "\n",
        "Fahrenheit = (celsius * 9/5)+conversion_formula\n",
        "print(f\"Celsius to Fahrenheit :\", Fahrenheit )"
      ],
      "metadata": {
        "colab": {
          "base_uri": "https://localhost:8080/"
        },
        "id": "u-zu0UoJJwzy",
        "outputId": "81981f68-6e2e-4aef-d45f-0d063c10190d"
      },
      "execution_count": 71,
      "outputs": [
        {
          "output_type": "stream",
          "name": "stdout",
          "text": [
            "Enter Celsius range: 37\n",
            "Celsius to Fahrenheit : 98.6\n"
          ]
        }
      ]
    }
  ]
}